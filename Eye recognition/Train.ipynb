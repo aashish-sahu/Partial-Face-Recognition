{
 "cells": [
  {
   "cell_type": "code",
   "execution_count": 16,
   "id": "70facf0e-de6f-46eb-b3a7-b907e2794e1f",
   "metadata": {},
   "outputs": [
    {
     "name": "stdout",
     "output_type": "stream",
     "text": [
      "Model Accuracy: 99.13%\n",
      "Model saved as 'eye_recognition_model.pkl'\n"
     ]
    }
   ],
   "source": [
    "import os\n",
    "import cv2\n",
    "import numpy as np\n",
    "from sklearn.model_selection import train_test_split\n",
    "from sklearn.neighbors import KNeighborsClassifier\n",
    "import pickle\n",
    "\n",
    "# Define the path to your dataset folder\n",
    "dataset_path = 'C:/Users/user/Downloads/archive/Eye dataset'  # Update with the actual path\n",
    "\n",
    "# Function to load images and labels from the dataset\n",
    "def load_dataset(dataset_path):\n",
    "    images = []\n",
    "    labels = []\n",
    "    \n",
    "    # Loop through each folder in the dataset directory\n",
    "    for label in os.listdir(dataset_path):\n",
    "        label_path = os.path.join(dataset_path, label)\n",
    "        \n",
    "        # Ensure we're dealing with a folder\n",
    "        if os.path.isdir(label_path):\n",
    "            for img_name in os.listdir(label_path):\n",
    "                img_path = os.path.join(label_path, img_name)\n",
    "                img = cv2.imread(img_path, cv2.IMREAD_COLOR)\n",
    "                \n",
    "                if img is not None:\n",
    "                    resized_img = cv2.resize(img, (100, 100))  # Resize the image to 100x100\n",
    "                    images.append(resized_img.flatten())  # Flatten the image for KNN\n",
    "                    labels.append(label)\n",
    "    \n",
    "    return np.array(images), np.array(labels)\n",
    "\n",
    "# Load the dataset\n",
    "X, y = load_dataset(dataset_path)\n",
    "\n",
    "# Split the dataset into training and testing sets\n",
    "X_train, X_test, y_train, y_test = train_test_split(X, y, test_size=0.2, random_state=42)\n",
    "\n",
    "# Initialize the KNN model with distance weighting\n",
    "knn = KNeighborsClassifier(n_neighbors=1, weights='distance')\n",
    "\n",
    "# Train the KNN model\n",
    "knn.fit(X_train, y_train)\n",
    "\n",
    "# Evaluate the model\n",
    "accuracy = knn.score(X_test, y_test)\n",
    "print(f\"Model Accuracy: {accuracy * 100:.2f}%\")\n",
    "\n",
    "# Save the trained model to a file\n",
    "with open('eye_recognition_model4.pkl', 'wb') as file:\n",
    "    pickle.dump(knn, file)\n",
    "\n",
    "print(\"Model saved as 'eye_recognition_model.pkl'\")\n"
   ]
  }
 ],
 "metadata": {
  "kernelspec": {
   "display_name": "Python 3 (ipykernel)",
   "language": "python",
   "name": "python3"
  },
  "language_info": {
   "codemirror_mode": {
    "name": "ipython",
    "version": 3
   },
   "file_extension": ".py",
   "mimetype": "text/x-python",
   "name": "python",
   "nbconvert_exporter": "python",
   "pygments_lexer": "ipython3",
   "version": "3.12.4"
  }
 },
 "nbformat": 4,
 "nbformat_minor": 5
}
